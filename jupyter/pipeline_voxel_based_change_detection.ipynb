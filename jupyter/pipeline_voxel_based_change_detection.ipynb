{
 "cells": [
  {
   "cell_type": "markdown",
   "metadata": {},
   "source": [
    "## Initialization and Loading Point Clouds\n",
    "- Import required functions and modules from the vapc library.\n",
    "- Set paths for the two point cloud files along with output directory paths.\n",
    "- Define key parameters such as the voxel size (6 meters) and the alpha value (0.999) for later computations.\n",
    "- Optionally disable tracing and timing functionality to keep the output clean.\n",
    "- Convert the two point clouds to their vapc representations using `point_cloud_to_vapc`."
   ]
  },
  {
   "cell_type": "code",
   "execution_count": null,
   "metadata": {},
   "outputs": [],
   "source": [
    "import vapc\n",
    "from vapc.vapc_tools import point_cloud_to_vapc, extract_point_cloud_by_3D_mask\n",
    "import os\n",
    "\n",
    "# Optional: Silent mode\n",
    "vapc.enable_trace(False)\n",
    "vapc.enable_timeit(False)\n",
    "\n",
    "point_cloud_1_path = r\"path_to_point_cloud_1.laz\"\n",
    "point_cloud_2_path = r\"path_to_point_cloud_2.laz\"\n",
    "\n",
    "output_folder = r\"output_folder\"\n",
    "output_file_full_voxelized = os.path.join(output_folder, \"full_voxelized.laz\")\n",
    "output_file_changed_voxelized = os.path.join(output_folder, \"changes_voxelized.laz\")\n",
    "voxel_size = 6 #m\n",
    "alpha_value = 0.999 \n",
    "\n",
    "vapc_1 = point_cloud_to_vapc(point_cloud_file=point_cloud_1_path,\n",
    "                           voxel_size=voxel_size)\n",
    "\n",
    "vapc_2 = point_cloud_to_vapc(point_cloud_file=point_cloud_2_path,\n",
    "                           voxel_size=voxel_size)"
   ]
  },
  {
   "cell_type": "markdown",
   "metadata": {},
   "source": [
    "- A BiTemporalVapc instance is created using the two vapc representations (vapc_1 and vapc_2). This object is designed to handle and compare datasets from different time epochs.\n",
    "- The method prepare_data_for_mahalanobis_distance() processes and aligns the data, setting up the features required for the Mahalanobis distance calculation.\n",
    "- The function merge_vapcs_with_same_voxel_index() consolidates voxels from both point clouds that have the same spatial location, ensuring that the subsequent comparison happens voxel-by-voxel.\n",
    "- The compute_distance() method calculates the Euclidean distance between corresponding voxels in the two datasets.\n",
    "- The compute_mahalanobis_distance(alpha=alpha_value) method then computes the Mahalanobis distance for these voxels, using an alpha value as a threshold based on the chi-squared distribution. This helps in identifying statistically significant differences.\n",
    "- Finally, compute_voxels_occupied_in_single_epoch() identifies voxels that appear in only one of the point clouds, marking regions where changes such as points disappearing or appearing are observed."
   ]
  },
  {
   "cell_type": "code",
   "execution_count": 3,
   "metadata": {},
   "outputs": [],
   "source": [
    "bi_vapc = vapc.BiTemporalVapc([vapc_1, vapc_2])\n",
    "bi_vapc.prepare_data_for_mahalanobis_distance() #prepare data for mahalanobis distance\n",
    "bi_vapc.merge_vapcs_with_same_voxel_index() #defines how comparison is done. Here, it is done per same voxel index.\n",
    "bi_vapc.compute_distance() #euclidean distance\n",
    "bi_vapc.compute_mahalanobis_distance(alpha=alpha_value) #alpha value for chi2\n",
    "bi_vapc.compute_voxels_occupied_in_single_epoch() #disappearing and appearing voxels"
   ]
  },
  {
   "cell_type": "markdown",
   "metadata": {},
   "source": [
    "- Prepare data for export\n",
    "- Save the areas where changes have been detected"
   ]
  },
  {
   "cell_type": "code",
   "execution_count": 4,
   "metadata": {},
   "outputs": [],
   "source": [
    "# Prepare data for export\n",
    "bi_vapc.prepare_data_for_export()\n",
    "# Optional saves the full voxelized point cloud with mahalanobis distance, euclidean distance, and change type.\n",
    "# bi_vapc.save_to_las(output_file_full_voxelized) \n",
    "\n",
    "# But we only want areas where change might have happened. So areas where the change \n",
    "# type is 1 (mahalanobis significant), 2 (less than 30 points in voxel), 3 (disappearing), \n",
    "# and 4 (appearing) are kept.\n",
    "bi_vapc.df = bi_vapc.df[(bi_vapc.df[\"change_type\"] >= 1)]\n",
    "bi_vapc.save_to_las(output_file_changed_voxelized)"
   ]
  },
  {
   "cell_type": "markdown",
   "metadata": {},
   "source": [
    "- Extract areas with change from full point clouds"
   ]
  },
  {
   "cell_type": "code",
   "execution_count": 5,
   "metadata": {},
   "outputs": [],
   "source": [
    "# Clip area from T1 and T2\n",
    "t1_outfile = os.path.join(output_folder, \"t1.laz\")\n",
    "t2_outfile = os.path.join(output_folder, \"t2.laz\")\n",
    "\n",
    "extract_point_cloud_by_3D_mask(point_cloud_1_path, output_file_changed_voxelized, t1_outfile, voxel_size)\n",
    "extract_point_cloud_by_3D_mask(point_cloud_2_path, output_file_changed_voxelized, t2_outfile, voxel_size)"
   ]
  }
 ],
 "metadata": {
  "kernelspec": {
   "display_name": "Python 3",
   "language": "python",
   "name": "python3"
  },
  "language_info": {
   "codemirror_mode": {
    "name": "ipython",
    "version": 3
   },
   "file_extension": ".py",
   "mimetype": "text/x-python",
   "name": "python",
   "nbconvert_exporter": "python",
   "pygments_lexer": "ipython3",
   "version": "3.10.15"
  }
 },
 "nbformat": 4,
 "nbformat_minor": 2
}
