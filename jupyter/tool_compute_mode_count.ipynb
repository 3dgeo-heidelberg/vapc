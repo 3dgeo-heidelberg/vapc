{
 "cells": [
  {
   "cell_type": "markdown",
   "metadata": {},
   "source": [
    "# How to compute mode count statistics for existing attributes"
   ]
  },
  {
   "cell_type": "markdown",
   "metadata": {},
   "source": [
    "## Notebook Overview\n",
    "\n",
    "This notebook demonstrates how to use the `vapc` library to compute the mode count voxel-wise statistics for existing attributes and save the results as a mesh in a `.ply` file.\n",
    "\n",
    "The following steps have been completed so far:\n",
    "\n",
    "1. Importing the `vapc` library and disabled trace and timeit modes.\n",
    "2. Defining the parameters :\n",
    "\n",
    "   - **Input File**: Specifies the path to the input `\".laz\"` or `\".las\"` file.\n",
    "   - **Output Directory**: Defines where the processed file will be saved.\n",
    "   - **Voxel Size**: Sets the size of each voxel for spatial aggregation.\n",
    "   - **Save As**: Indicates the format of the output format (`\".laz\"`, `\".las\"`, `\".ply\"`).\n",
    "   - **vapc_command**: Dictionary containing configurations for the statistics computation process.<br>\n",
    "   `Available computations = [\"mean\", \"min\", \"max\", \"mode\", \"median\", \"sum\", \"mode_count,%\"]`\n",
    "\n",
    "3. Executing the user-defined `vapc` command to apply statistics computation to the input point cloud data and saving the output to the indicated folder."
   ]
  },
  {
   "cell_type": "markdown",
   "metadata": {},
   "source": [
    "## mode_count explanation\n",
    "\n",
    "The mode count is the number of different values for a given feature and is calculated for each voxel. The present example shows a tree point cloud captured from 8 positions. The feature \"point_source_id\" is the ID of the scan from which the point is from. The percentage indicates the minimum ratio of points in the voxel to take the point_source_id into account.\n",
    "\n",
    "Here are some examples:\n",
    "1. \"point_source_id\":\"mode_count,0.1\"\n",
    "\n",
    "    Voxel containing 100 points where:\n",
    "    - 33 points with point_source_id = 1\n",
    "    - 33 points with point_source_id = 2\n",
    "    - 34 points with point_source_id = 3\n",
    "        \n",
    "    The mode_count is 3\n",
    "\n",
    "2. \"point_source_id\":\"mode_count,0.1\"\n",
    "\n",
    "    Voxel containing 100 points where:\n",
    "    - 40 points with point_source_id = 1\n",
    "    - 51 points with point_source_id = 2\n",
    "    -  9 points with point_source_id = 3   <-- Less than 10% of the points in the voxels are from the scan with the ID #3\n",
    "        \n",
    "    The mode_count is 2"
   ]
  },
  {
   "cell_type": "code",
   "execution_count": 1,
   "metadata": {},
   "outputs": [],
   "source": [
    "import vapc\n",
    "# Activate silent mode:\n",
    "vapc.enable_trace(False)\n",
    "vapc.enable_timeit(False)"
   ]
  },
  {
   "cell_type": "code",
   "execution_count": null,
   "metadata": {},
   "outputs": [
    {
     "data": {
      "text/plain": [
       "'../tests/test_data_output/statistics_2025_02_19_14-35-33.ply'"
      ]
     },
     "execution_count": 21,
     "metadata": {},
     "output_type": "execute_result"
    }
   ],
   "source": [
    "infile = r\"../tests/test_data/tree_wind_condition.laz\"\n",
    "out_dir = r\"../tests/test_data_output/\"\n",
    "voxel_size = 0.25\n",
    "save_as = \".ply\"\n",
    "vapc_command = {\n",
    "        \"tool\":\"statistics\",\n",
    "        \"args\":{\n",
    "            \"statistics\":{\n",
    "                \"point_source_id\":\"mode_count,0.1\"}\n",
    "            }\n",
    "        }\n",
    "\n",
    "vapc.do_vapc_on_files(\n",
    "    file=infile,\n",
    "    out_dir=out_dir,\n",
    "    voxel_size=voxel_size,\n",
    "    vapc_command=vapc_command,\n",
    "    reduce_to=\"center_of_voxel\",\n",
    "    save_as=save_as)"
   ]
  }
 ],
 "metadata": {
  "kernelspec": {
   "display_name": "vapc",
   "language": "python",
   "name": "python3"
  },
  "language_info": {
   "codemirror_mode": {
    "name": "ipython",
    "version": 3
   },
   "file_extension": ".py",
   "mimetype": "text/x-python",
   "name": "python",
   "nbconvert_exporter": "python",
   "pygments_lexer": "ipython3",
   "version": "3.10.16"
  }
 },
 "nbformat": 4,
 "nbformat_minor": 2
}
