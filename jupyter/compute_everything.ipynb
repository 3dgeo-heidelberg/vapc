{
 "cells": [
  {
   "cell_type": "markdown",
   "metadata": {},
   "source": [
    "Required Imports:"
   ]
  },
  {
   "cell_type": "code",
   "execution_count": 1,
   "metadata": {},
   "outputs": [
    {
     "name": "stdout",
     "output_type": "stream",
     "text": [
      "c:\\Users\\nc298\\Documents\\repos\\vasp\\src\\vasp\n"
     ]
    }
   ],
   "source": [
    "import sys, os\n",
    "from pathlib import Path\n",
    "current_folder = globals()[\"_dh\"][0]\n",
    "vasp_path = os.path.join(str(Path(current_folder).parent),r\"src\\vasp\")\n",
    "print(vasp_path)\n",
    "sys.path.append(vasp_path)  # add vasp directory to PATH\n",
    "from vasp import VASP\n",
    "from data_handler import DATA_HANDLER"
   ]
  },
  {
   "cell_type": "markdown",
   "metadata": {},
   "source": [
    "First define the:\n",
    "* input file\n",
    "* voxel size\n",
    "* voxel space origin\n",
    "* configure the voxelisation\n",
    "\n",
    "In this example the voxel size is 0.25 m, the origin is at 0,0,0.\n",
    "The vasp will calculate the mean for the RGB values and additionally calculate the point_count.\n",
    "The output will than be stored in the outfile. Here each voxels center will be used as the X,Y,Z coordinate.\n",
    "Additionally the output will be stored in a ply file containing a mesh of voxels."
   ]
  },
  {
   "cell_type": "code",
   "execution_count": 2,
   "metadata": {},
   "outputs": [],
   "source": [
    "# Point cloud to be voxelized\n",
    "infiles = [r\"C:\\vasp_test_data\\vasp_in.laz\"]\n",
    "voxel_size = 1\n",
    "origin = [0,0,0]\n",
    "outfile = r\"C:\\vasp_test_data\\vasp_out.laz\"\n",
    "outfile_ply = r\"C:\\vasp_test_data\\vasp_out.ply\""
   ]
  },
  {
   "cell_type": "markdown",
   "metadata": {},
   "source": [
    "This is where all implemented attributes are calculated. For each function called, the result is stored as an attribute in the outfile. However, for geometric features, the covariance and eigenvalues must be run beforehand, but it is sufficient to call only geometric features. If only geometric features is called, the covariance matrix and eigenvalues are not stored in the outfile."
   ]
  },
  {
   "cell_type": "code",
   "execution_count": 3,
   "metadata": {},
   "outputs": [],
   "source": [
    "config = {\n",
    "    \"infiles\":infiles,\n",
    "    \"voxel_size\":voxel_size,\n",
    "    \"origin\":origin,\n",
    "    \"attributes\":{\n",
    "        \"red\":\"mean\",\n",
    "        \"green\":\"mean\",\n",
    "        \"blue\":\"mean\"\n",
    "        },\n",
    "    \"calculate\":[   \n",
    "        \"big_int_index\",\n",
    "        \"hash_index\",\n",
    "        \"point_count\",\n",
    "        \"point_density\",\n",
    "        \"percentage_occupied\",\n",
    "        \"covariance_matrix\",\n",
    "        \"eigenvalues\",\n",
    "        \"geometric_features\",\n",
    "        \"center_of_gravity\",\n",
    "        \"center_of_voxel\",\n",
    "        \"corner_of_voxel\"\n",
    "        ],\n",
    "    \"return_at\":\"center_of_gravity\"\n",
    "    }"
   ]
  },
  {
   "cell_type": "markdown",
   "metadata": {},
   "source": [
    "This is a common example of how to define a filter. "
   ]
  },
  {
   "cell_type": "code",
   "execution_count": 4,
   "metadata": {},
   "outputs": [],
   "source": [
    "vox_filter = {\n",
    "    \"filter_attribute\":\"point_count\",\n",
    "    \"filter_value\":5,\n",
    "    \"min_max_eq\":\"min\"}"
   ]
  },
  {
   "cell_type": "markdown",
   "metadata": {},
   "source": [
    "Open the data with the DATA_HANDLER. Also give information about what attributes to read."
   ]
  },
  {
   "cell_type": "code",
   "execution_count": 5,
   "metadata": {},
   "outputs": [
    {
     "name": "stdout",
     "output_type": "stream",
     "text": [
      "Calling load_las_files\n",
      "C:\\vasp_test_data\\vasp_in.laz\n",
      "Loading ... vasp_in.laz\n",
      "Function 'load_las_files' executed in 0.0025 seconds\n"
     ]
    }
   ],
   "source": [
    "data_handler = DATA_HANDLER(\n",
    "    config[\"infiles\"],\n",
    "    config[\"attributes\"]\n",
    "    )\n",
    "data_handler.load_las_files()"
   ]
  },
  {
   "cell_type": "markdown",
   "metadata": {},
   "source": [
    "Initiate the VOXELIZER with all required parameters. Than pass the data from the data_handler to the vasp."
   ]
  },
  {
   "cell_type": "code",
   "execution_count": 6,
   "metadata": {},
   "outputs": [
    {
     "name": "stdout",
     "output_type": "stream",
     "text": [
      "Calling get_data_from_data_handler\n",
      "Function 'get_data_from_data_handler' executed in 0.0000 seconds\n"
     ]
    }
   ],
   "source": [
    "vasp = VASP(\n",
    "    config[\"voxel_size\"],\n",
    "    config[\"origin\"],\n",
    "    config[\"attributes\"],\n",
    "    config[\"calculate\"],\n",
    "    config[\"return_at\"]\n",
    "    )\n",
    "\n",
    "vasp.get_data_from_data_handler(\n",
    "    data_handler\n",
    "    )"
   ]
  },
  {
   "cell_type": "markdown",
   "metadata": {},
   "source": [
    "Compute the requested attributes and statistics per voxel as defined in the config file. After computing all new attributes and statistics, reduce the data. Only one value per voxel remains for each attribute."
   ]
  },
  {
   "cell_type": "code",
   "execution_count": 7,
   "metadata": {},
   "outputs": [
    {
     "name": "stdout",
     "output_type": "stream",
     "text": [
      "Calling compute_requested_attributes\n",
      "Calling compute_big_int_index\n",
      "Calling voxelize\n",
      "Function 'voxelize' executed in 0.0060 seconds\n",
      "Function 'compute_big_int_index' executed in 0.0120 seconds\n",
      "Calling compute_hash_index\n",
      "Function 'compute_hash_index' executed in 0.0000 seconds\n",
      "Calling compute_point_count\n",
      "Function 'compute_point_count' executed in 0.0000 seconds\n",
      "Calling compute_point_density\n",
      "Function 'compute_point_density' executed in 0.0000 seconds\n",
      "Calling compute_percentage_occupied\n",
      "54.63 of the voxel space is occupied\n",
      "Function 'compute_percentage_occupied' executed in 0.0000 seconds\n",
      "Calling compute_covariance_matrix\n",
      "Function 'compute_covariance_matrix' executed in 0.0529 seconds\n",
      "Calling compute_eigenvalues\n",
      "Function 'compute_eigenvalues' executed in 0.0430 seconds\n",
      "Calling compute_geometric_features\n",
      "Function 'compute_geometric_features' executed in 0.0000 seconds\n",
      "Calling compute_center_of_gravity\n",
      "Function 'compute_center_of_gravity' executed in 0.0186 seconds\n",
      "Calling compute_center_of_voxel\n",
      "Function 'compute_center_of_voxel' executed in 0.0020 seconds\n",
      "Calling compute_corner_of_voxel\n",
      "Function 'compute_corner_of_voxel' executed in 0.0017 seconds\n",
      "Function 'compute_requested_attributes' executed in 0.1303 seconds\n",
      "Calling compute_requested_statistics_per_attributes\n",
      "Function 'compute_requested_statistics_per_attributes' executed in 0.0079 seconds\n",
      "Calling reduce_to_voxels\n",
      "Function 'reduce_to_voxels' executed in 0.0040 seconds\n"
     ]
    },
    {
     "name": "stderr",
     "output_type": "stream",
     "text": [
      "c:\\Users\\nc298\\AppData\\Local\\anaconda3\\envs\\voxelizer\\lib\\site-packages\\pandas\\core\\frame.py:10866: RuntimeWarning: Degrees of freedom <= 0 for slice\n",
      "  base_cov = np.cov(mat.T, ddof=ddof)\n",
      "c:\\Users\\nc298\\AppData\\Local\\anaconda3\\envs\\voxelizer\\lib\\site-packages\\numpy\\lib\\function_base.py:2748: RuntimeWarning: divide by zero encountered in divide\n",
      "  c *= np.true_divide(1, fact)\n",
      "c:\\Users\\nc298\\AppData\\Local\\anaconda3\\envs\\voxelizer\\lib\\site-packages\\numpy\\lib\\function_base.py:2748: RuntimeWarning: invalid value encountered in multiply\n",
      "  c *= np.true_divide(1, fact)\n",
      "c:\\Users\\nc298\\AppData\\Local\\anaconda3\\envs\\voxelizer\\lib\\site-packages\\pandas\\core\\frame.py:10866: RuntimeWarning: Degrees of freedom <= 0 for slice\n",
      "  base_cov = np.cov(mat.T, ddof=ddof)\n",
      "c:\\Users\\nc298\\AppData\\Local\\anaconda3\\envs\\voxelizer\\lib\\site-packages\\numpy\\lib\\function_base.py:2748: RuntimeWarning: divide by zero encountered in divide\n",
      "  c *= np.true_divide(1, fact)\n",
      "c:\\Users\\nc298\\AppData\\Local\\anaconda3\\envs\\voxelizer\\lib\\site-packages\\numpy\\lib\\function_base.py:2748: RuntimeWarning: invalid value encountered in multiply\n",
      "  c *= np.true_divide(1, fact)\n"
     ]
    }
   ],
   "source": [
    "\n",
    "vasp.compute_requested_attributes()\n",
    "vasp.compute_requested_statistics_per_attributes() #Currently faster, does only support min, mean, median, max, sum\n",
    "# vasp.compute_requested_statistics_per_attributes_numpy() #Currently slower, does additionaly support mode\n",
    "vasp.reduce_to_voxels()"
   ]
  },
  {
   "cell_type": "markdown",
   "metadata": {},
   "source": [
    "Apply the filter to the reduced data"
   ]
  },
  {
   "cell_type": "code",
   "execution_count": 8,
   "metadata": {},
   "outputs": [
    {
     "name": "stdout",
     "output_type": "stream",
     "text": [
      "Calling filter_attributes\n",
      "Function 'filter_attributes' executed in 0.0000 seconds\n"
     ]
    }
   ],
   "source": [
    "vasp.filter_attributes(\n",
    "    filter_attribute=vox_filter[\"filter_attribute\"],\n",
    "    filter_value=vox_filter[\"filter_value\"],\n",
    "    min_max_eq=vox_filter[\"min_max_eq\"]\n",
    "    )"
   ]
  },
  {
   "cell_type": "markdown",
   "metadata": {},
   "source": [
    "Save result as a point cloud with new attributes"
   ]
  },
  {
   "cell_type": "code",
   "execution_count": 9,
   "metadata": {},
   "outputs": [
    {
     "name": "stdout",
     "output_type": "stream",
     "text": [
      "Calling save_as_las\n",
      "Error adding dimension 'big_int_index': no field of name big_int_index\n",
      "Adding new dim 'big_int_index'\n",
      "Error adding dimension 'hash_index': no field of name hash_index\n",
      "Adding new dim 'hash_index'\n",
      "Error adding dimension 'point_density': no field of name point_density\n",
      "Adding new dim 'point_density'\n",
      "Error adding dimension 'cov_xx': no field of name cov_xx\n",
      "Adding new dim 'cov_xx'\n",
      "Error adding dimension 'cov_xy': no field of name cov_xy\n",
      "Adding new dim 'cov_xy'\n",
      "Error adding dimension 'cov_xz': no field of name cov_xz\n",
      "Adding new dim 'cov_xz'\n",
      "Error adding dimension 'cov_yx': no field of name cov_yx\n",
      "Adding new dim 'cov_yx'\n",
      "Error adding dimension 'cov_yy': no field of name cov_yy\n",
      "Adding new dim 'cov_yy'\n",
      "Error adding dimension 'cov_yz': no field of name cov_yz\n",
      "Adding new dim 'cov_yz'\n",
      "Error adding dimension 'cov_zx': no field of name cov_zx\n",
      "Adding new dim 'cov_zx'\n",
      "Error adding dimension 'cov_zy': no field of name cov_zy\n",
      "Adding new dim 'cov_zy'\n",
      "Error adding dimension 'cov_zz': no field of name cov_zz\n",
      "Adding new dim 'cov_zz'\n",
      "Error adding dimension 'Eigenvalue 1': no field of name Eigenvalue 1\n",
      "Adding new dim 'Eigenvalue 1'\n",
      "Error adding dimension 'Eigenvalue 2': no field of name Eigenvalue 2\n",
      "Adding new dim 'Eigenvalue 2'\n",
      "Error adding dimension 'Eigenvalue 3': no field of name Eigenvalue 3\n",
      "Adding new dim 'Eigenvalue 3'\n",
      "Error adding dimension 'Sum of Eigenvalues': no field of name Sum of Eigenvalues\n",
      "Adding new dim 'Sum of Eigenvalues'\n",
      "Error adding dimension 'Omnivariance': no field of name Omnivariance\n",
      "Adding new dim 'Omnivariance'\n",
      "Error adding dimension 'Eigentropy': no field of name Eigentropy\n",
      "Adding new dim 'Eigentropy'\n",
      "Error adding dimension 'Anisotropy': no field of name Anisotropy\n",
      "Adding new dim 'Anisotropy'\n",
      "Error adding dimension 'Planarity': no field of name Planarity\n",
      "Adding new dim 'Planarity'\n",
      "Error adding dimension 'Linearity': no field of name Linearity\n",
      "Adding new dim 'Linearity'\n",
      "Error adding dimension 'Surface Variation': no field of name Surface Variation\n",
      "Adding new dim 'Surface Variation'\n",
      "Error adding dimension 'Sphericity': no field of name Sphericity\n",
      "Adding new dim 'Sphericity'\n",
      "Error adding dimension 'cog_x': no field of name cog_x\n",
      "Adding new dim 'cog_x'\n",
      "Error adding dimension 'cog_y': no field of name cog_y\n",
      "Adding new dim 'cog_y'\n",
      "Error adding dimension 'cog_z': no field of name cog_z\n",
      "Adding new dim 'cog_z'\n",
      "Error adding dimension 'center_x': no field of name center_x\n",
      "Adding new dim 'center_x'\n",
      "Error adding dimension 'center_y': no field of name center_y\n",
      "Adding new dim 'center_y'\n",
      "Error adding dimension 'center_z': no field of name center_z\n",
      "Adding new dim 'center_z'\n",
      "Error adding dimension 'corner_x': no field of name corner_x\n",
      "Adding new dim 'corner_x'\n",
      "Error adding dimension 'corner_y': no field of name corner_y\n",
      "Adding new dim 'corner_y'\n",
      "Error adding dimension 'corner_z': no field of name corner_z\n",
      "Adding new dim 'corner_z'\n",
      "Function 'save_as_las' executed in 0.0904 seconds\n"
     ]
    }
   ],
   "source": [
    "data_handler.df = vasp.df\n",
    "data_handler.save_as_las(\n",
    "    outfile=outfile\n",
    "    )"
   ]
  },
  {
   "cell_type": "markdown",
   "metadata": {},
   "source": [
    "Save result as .ply file containing a mesh of cubes/voxels."
   ]
  },
  {
   "cell_type": "code",
   "execution_count": 10,
   "metadata": {},
   "outputs": [
    {
     "name": "stdout",
     "output_type": "stream",
     "text": [
      "Calling save_as_ply\n",
      "Calling _generate_mesh_data\n",
      "Function '_generate_mesh_data' executed in 0.0064 seconds\n",
      "Function 'save_as_ply' executed in 0.0087 seconds\n"
     ]
    }
   ],
   "source": [
    "data_handler.save_as_ply(\n",
    "    outfile=outfile_ply,\n",
    "    voxel_size=vasp.voxel_size,\n",
    "    shift_to_center=False\n",
    "    )"
   ]
  }
 ],
 "metadata": {
  "kernelspec": {
   "display_name": "voxelizer",
   "language": "python",
   "name": "python3"
  },
  "language_info": {
   "codemirror_mode": {
    "name": "ipython",
    "version": 3
   },
   "file_extension": ".py",
   "mimetype": "text/x-python",
   "name": "python",
   "nbconvert_exporter": "python",
   "pygments_lexer": "ipython3",
   "version": "3.10.13"
  }
 },
 "nbformat": 4,
 "nbformat_minor": 2
}
