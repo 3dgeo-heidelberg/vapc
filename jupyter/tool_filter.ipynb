{
 "cells": [
  {
   "cell_type": "markdown",
   "metadata": {},
   "source": [
    "# How to filter point clouds based on voxel-based attributes"
   ]
  },
  {
   "cell_type": "markdown",
   "metadata": {},
   "source": [
    "## Notebook Overview\n",
    "\n",
    "This notebook demonstrates how to use the `vapc` library for voxel-based filtering and save the results as a `.laz` file.\n",
    "\n",
    "The following steps have been completed so far:\n",
    "\n",
    "1. Importing the `vapc` library and disabled trace and timeit modes.\n",
    "2. Defining the parameters :\n",
    "\n",
    "   - **Input File**: Specifies the path to the input `\".laz\"` or `\".las\"` file.\n",
    "   - **Output Directory**: Defines where the processed file will be saved.\n",
    "   - **Voxel Size**: Sets the size of each voxel for spatial aggregation.\n",
    "   - **Save As**: Indicates the format of the output format (`\".laz\"`, `\".las\"`, `\".ply\"`).\n",
    "   - **filter_attribute**: Indicates which attribute to use<br>\n",
    "   `Available attributes = ['big_int_index', 'hash_index', 'voxel_index', 'point_count', 'point_density', 'percentage_occupied', 'covariance_matrix', 'eigenvalues', 'geometric_features', 'center_of_gravity', 'distance_to_center_of_gravity', 'std_of_cog', 'closest_to_center_of_gravity', 'center_of_voxel', 'corner_of_voxel']`\n",
    "   - **filter_operator**: Indicates which operator to use to filter<br>\n",
    "   `['equal_to', 'greater_than', 'less_than', 'greater_than_or_equal_to', 'less_than_or_equal_to', '==', '>', '<', '>=', '<=']`\n",
    "   - **filter_value**: Indicates which value to use to filter by<br>\n",
    "   `[1.5, 2, 3, 4, \"a\", \"A\", ...]`\n",
    "   - **vapc_command**: Dictionary containing configurations for the filtering process.\n",
    "\n",
    "3. Executing the user-defined `vapc` command to filter the input point cloud data and save the output to the indicated folder."
   ]
  },
  {
   "cell_type": "code",
   "execution_count": 1,
   "metadata": {},
   "outputs": [],
   "source": [
    "import vapc\n",
    "# Activate silent mode:\n",
    "vapc.enable_trace(False)\n",
    "vapc.enable_timeit(False)"
   ]
  },
  {
   "cell_type": "code",
   "execution_count": 2,
   "metadata": {},
   "outputs": [
    {
     "name": "stdout",
     "output_type": "stream",
     "text": [
      "Adding new dimension raw_classification\n",
      "Adding new dimension scan_angle_rank\n",
      "Adding new dimension point_count\n",
      "Adding new dimension point_density\n"
     ]
    },
    {
     "data": {
      "text/plain": [
       "True"
      ]
     },
     "execution_count": 2,
     "metadata": {},
     "output_type": "execute_result"
    }
   ],
   "source": [
    "infile = r\"../tests/test_data/vapc_in.laz\"\n",
    "out_dir = r\"../tests/test_data_output/\"\n",
    "voxel_size = 0.25\n",
    "save_as = \".laz\"\n",
    "filter_attribute_1 = \"point_count\"\n",
    "filter_operator_1 = \"greater_than_or_equal_to\"\n",
    "filter_value_1 = 2\n",
    "\n",
    "filter_attribute_2 = \"point_density\"\n",
    "filter_operator_2 = \"<\"\n",
    "filter_value_2 = 200\n",
    "\n",
    "vapc_command = {\n",
    "        \"tool\":\"filter\",\n",
    "        \"args\":{\n",
    "            \"filters\":{\n",
    "                filter_attribute_1:{filter_operator_1: filter_value_1},\n",
    "                filter_attribute_2:{filter_operator_2: filter_value_2}\n",
    "                }\n",
    "            }\n",
    "        }\n",
    "\n",
    "vapc.do_vapc_on_files(\n",
    "    file=infile,\n",
    "    out_dir=out_dir,\n",
    "    voxel_size=voxel_size,\n",
    "    vapc_command=vapc_command,\n",
    "    save_as=save_as)"
   ]
  }
 ],
 "metadata": {
  "kernelspec": {
   "display_name": "Python 3",
   "language": "python",
   "name": "python3"
  },
  "language_info": {
   "codemirror_mode": {
    "name": "ipython",
    "version": 3
   },
   "file_extension": ".py",
   "mimetype": "text/x-python",
   "name": "python",
   "nbconvert_exporter": "python",
   "pygments_lexer": "ipython3",
   "version": "3.10.16"
  }
 },
 "nbformat": 4,
 "nbformat_minor": 2
}
