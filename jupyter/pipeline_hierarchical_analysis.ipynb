{
 "cells": [
  {
   "cell_type": "markdown",
   "metadata": {},
   "source": [
    "## Imports and paths"
   ]
  },
  {
   "cell_type": "code",
   "execution_count": 4,
   "metadata": {},
   "outputs": [],
   "source": [
    "import vapc\n",
    "from vapc.vapc_tools import extract_areas_with_change_using_mahalanobis_distance\n",
    "import os\n",
    "\n",
    "# Optional: Silent mode\n",
    "vapc.enable_trace(False)\n",
    "vapc.enable_timeit(False)\n",
    "\n",
    "point_cloud_1_path = r\"indata\\Epoch_1.laz\"\n",
    "point_cloud_2_path = r\"indata\\Epoch_2.laz\"\n",
    "output_folder = r\"outdata\"\n",
    "\n",
    "voxel_size = 6 #m\n",
    "alpha_value = 0.999 "
   ]
  },
  {
   "cell_type": "markdown",
   "metadata": {},
   "source": [
    "# Run voxel-based change detection \n",
    "... as shown in the example notebook \"pipeline_voxel_based_change_detection.ipynb\""
   ]
  },
  {
   "cell_type": "code",
   "execution_count": 5,
   "metadata": {},
   "outputs": [],
   "source": [
    "extract_areas_with_change_using_mahalanobis_distance(point_cloud_1_path=point_cloud_1_path,\n",
    "                                                     point_cloud_2_path=point_cloud_2_path,\n",
    "                                                     mask_file=os.path.join(output_folder, \"temp_mask.laz\"),\n",
    "                                                     point_cloud_out_1_path=os.path.join(output_folder, \"Masked_Epoch_1.laz\"),\n",
    "                                                     point_cloud_out_2_path=os.path.join(output_folder, \"Masked_Epoch_2.laz\"),\n",
    "                                                     voxel_size=voxel_size,\n",
    "                                                     alpha_value=alpha_value\n",
    "                                                     )"
   ]
  },
  {
   "cell_type": "markdown",
   "metadata": {},
   "source": [
    "# Run point-based change analysis\n",
    "... for further documentation consult the py4dgeo wiki"
   ]
  },
  {
   "cell_type": "code",
   "execution_count": 6,
   "metadata": {},
   "outputs": [
    {
     "name": "stdout",
     "output_type": "stream",
     "text": [
      "[2025-04-01 11:41:55][INFO] Reading point cloud from file 'c:\\Users\\nc298\\repos\\vapc\\jupyter\\outdata\\Masked_Epoch_1.laz'\n",
      "[2025-04-01 11:41:55][INFO] Reading point cloud from file 'c:\\Users\\nc298\\repos\\vapc\\jupyter\\outdata\\Masked_Epoch_2.laz'\n",
      "[2025-04-01 11:41:55][INFO] Building KDTree structure with leaf parameter 10\n",
      "[2025-04-01 11:41:55][INFO] Building KDTree structure with leaf parameter 10\n"
     ]
    }
   ],
   "source": [
    "import py4dgeo\n",
    "\n",
    "m3c2_config = {\n",
    "    \"normal_radii\": [0.5,1.0,1.5],\n",
    "    \"cyl_radii\": 1.0,\n",
    "    \"max_distance\": 10.0,\n",
    "    \"registration_error\": 0.05,\n",
    "}\n",
    "\n",
    "reference = os.path.join(output_folder, \"Masked_Epoch_1.laz\")\n",
    "target = os.path.join(output_folder, \"Masked_Epoch_2.laz\")\n",
    "\n",
    "epoch_reference = py4dgeo.read_from_las(reference)\n",
    "epoch_target = py4dgeo.read_from_las(target)\n",
    "\n",
    "m3c2 = py4dgeo.M3C2(\n",
    "    epochs=(epoch_reference, epoch_target),\n",
    "    corepoints=epoch_reference.cloud[::],\n",
    "    normal_radii=tuple(m3c2_config[\"normal_radii\"]),\n",
    "    cyl_radii=(m3c2_config[\"cyl_radii\"],),\n",
    "    max_distance=m3c2_config[\"max_distance\"],\n",
    "    registration_error=m3c2_config[\"registration_error\"],\n",
    ")\n",
    "# Run the distance computation\n",
    "m3c2_distances, uncertainties = m3c2.run()"
   ]
  }
 ],
 "metadata": {
  "kernelspec": {
   "display_name": "Python 3",
   "language": "python",
   "name": "python3"
  },
  "language_info": {
   "codemirror_mode": {
    "name": "ipython",
    "version": 3
   },
   "file_extension": ".py",
   "mimetype": "text/x-python",
   "name": "python",
   "nbconvert_exporter": "python",
   "pygments_lexer": "ipython3",
   "version": "3.10.15"
  }
 },
 "nbformat": 4,
 "nbformat_minor": 2
}
