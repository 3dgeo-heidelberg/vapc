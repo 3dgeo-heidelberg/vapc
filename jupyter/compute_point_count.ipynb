{
 "cells": [
  {
   "cell_type": "markdown",
   "metadata": {},
   "source": [
    "# Basic VASP opperation"
   ]
  },
  {
   "cell_type": "markdown",
   "metadata": {},
   "source": [
    "Required Imports:"
   ]
  },
  {
   "cell_type": "code",
   "execution_count": 8,
   "metadata": {},
   "outputs": [
    {
     "name": "stdout",
     "output_type": "stream",
     "text": [
      "c:\\Users\\nc298\\Documents\\repos\\vasp\\src\\vasp\n"
     ]
    }
   ],
   "source": [
    "import sys, os\n",
    "from pathlib import Path\n",
    "current_folder = globals()[\"_dh\"][0]\n",
    "vasp_path = os.path.join(str(Path(current_folder).parent),r\"src\\vasp\")\n",
    "print(vasp_path)\n",
    "sys.path.append(vasp_path)  # add vasp directory to PATH\n",
    "from vasp import VASP\n",
    "from data_handler import DATA_HANDLER"
   ]
  },
  {
   "cell_type": "markdown",
   "metadata": {},
   "source": [
    "First define the:\n",
    "* input file\n",
    "* voxel size\n",
    "* voxel space origin\n",
    "* configure the voxelisation\n",
    "\n",
    "In this example the voxel size is 0.25 m, the origin is at 0,0,0.\n",
    "The vasp will calculate the mean for the RGB values and additionally calculate the point_count.\n",
    "The output will than be stored in the outfile. Here each voxels center will be used as the X,Y,Z coordinate."
   ]
  },
  {
   "cell_type": "code",
   "execution_count": 2,
   "metadata": {},
   "outputs": [],
   "source": [
    "# Point cloud to be voxelized\n",
    "infiles = [r\"C:\\vasp_test_data\\vasp_in.laz\"]\n",
    "outfile = r\"C:\\vasp_test_data\\vasp_out.laz\"\n",
    "voxel_size = .25\n",
    "origin = [0,0,0]\n",
    "\n",
    "config = {\n",
    "    \"infiles\":infiles,\n",
    "    \"voxel_size\":voxel_size,\n",
    "    \"origin\":origin,\n",
    "    \"attributes\":{\n",
    "        \"red\":\"mean\",\n",
    "        \"green\":\"mean\",\n",
    "        \"blue\":\"mean\"\n",
    "        },\n",
    "    \"calculate\":[   \n",
    "        \"point_count\"\n",
    "        ],\n",
    "    \"return_at\":\"center_of_voxel\"\n",
    "    }\n",
    "\n"
   ]
  },
  {
   "cell_type": "markdown",
   "metadata": {},
   "source": [
    "Open the data with the DATA_HANDLER. Also give information about what attributes to read."
   ]
  },
  {
   "cell_type": "code",
   "execution_count": 3,
   "metadata": {},
   "outputs": [
    {
     "name": "stdout",
     "output_type": "stream",
     "text": [
      "Calling load_las_files\n",
      "C:\\vasp_test_data\\vasp_in.laz\n",
      "Loading ... vasp_in.laz\n",
      "Function 'load_las_files' executed in 0.0012 seconds\n"
     ]
    }
   ],
   "source": [
    "data_handler = DATA_HANDLER(infiles,\n",
    "                            config[\"attributes\"])\n",
    "data_handler.load_las_files()"
   ]
  },
  {
   "cell_type": "markdown",
   "metadata": {},
   "source": [
    "Initiate the VASP with all required parameters. Than pass the data from the data_handler to the vasp."
   ]
  },
  {
   "cell_type": "code",
   "execution_count": 4,
   "metadata": {},
   "outputs": [
    {
     "name": "stdout",
     "output_type": "stream",
     "text": [
      "Calling get_data_from_data_handler\n",
      "Function 'get_data_from_data_handler' executed in 0.0000 seconds\n"
     ]
    }
   ],
   "source": [
    "vasp = VASP(\n",
    "    config[\"voxel_size\"],\n",
    "    config[\"origin\"],\n",
    "    config[\"attributes\"],\n",
    "    config[\"calculate\"],\n",
    "    config[\"return_at\"]\n",
    "    )\n",
    "vasp.get_data_from_data_handler(\n",
    "    data_handler\n",
    "    )"
   ]
  },
  {
   "cell_type": "markdown",
   "metadata": {},
   "source": [
    "Compute the requested attributes and statistics per voxel as defined in the config file."
   ]
  },
  {
   "cell_type": "code",
   "execution_count": 5,
   "metadata": {},
   "outputs": [
    {
     "name": "stdout",
     "output_type": "stream",
     "text": [
      "Calling compute_requested_attributes\n",
      "Calling compute_point_count\n",
      "Calling voxelize\n",
      "Function 'voxelize' executed in 0.0123 seconds\n",
      "Function 'compute_point_count' executed in 0.0168 seconds\n",
      "Function 'compute_requested_attributes' executed in 0.0168 seconds\n",
      "Calling compute_requested_statistics_per_attributes\n",
      "Function 'compute_requested_statistics_per_attributes' executed in 0.0000 seconds\n"
     ]
    }
   ],
   "source": [
    "vasp.compute_requested_attributes()\n",
    "vasp.compute_requested_statistics_per_attributes() #Currently faster, does only support min, mean, median, max, sum\n",
    "# vasp.compute_requested_statistics_per_attributes_numpy() #Currently slower, does additionaly support mode"
   ]
  },
  {
   "cell_type": "markdown",
   "metadata": {},
   "source": [
    "After computing all new attributes and statistics, reduce the data. Only one value per voxel remains for each attribute."
   ]
  },
  {
   "cell_type": "code",
   "execution_count": 6,
   "metadata": {},
   "outputs": [
    {
     "name": "stdout",
     "output_type": "stream",
     "text": [
      "Calling reduce_to_voxels\n",
      "Calling compute_center_of_voxel\n",
      "Function 'compute_center_of_voxel' executed in 0.0020 seconds\n",
      "Function 'reduce_to_voxels' executed in 0.0041 seconds\n"
     ]
    }
   ],
   "source": [
    "vasp.reduce_to_voxels()"
   ]
  },
  {
   "cell_type": "markdown",
   "metadata": {},
   "source": [
    "Overwrite the data from the data_handler. Save the data as a laz file."
   ]
  },
  {
   "cell_type": "code",
   "execution_count": 7,
   "metadata": {},
   "outputs": [
    {
     "name": "stdout",
     "output_type": "stream",
     "text": [
      "Calling save_as_las\n",
      "Function 'save_as_las' executed in 0.0160 seconds\n"
     ]
    }
   ],
   "source": [
    "data_handler.df = vasp.df\n",
    "data_handler.save_as_las(\n",
    "    outfile=outfile\n",
    "    )"
   ]
  }
 ],
 "metadata": {
  "kernelspec": {
   "display_name": "dev_aimon",
   "language": "python",
   "name": "python3"
  },
  "language_info": {
   "codemirror_mode": {
    "name": "ipython",
    "version": 3
   },
   "file_extension": ".py",
   "mimetype": "text/x-python",
   "name": "python",
   "nbconvert_exporter": "python",
   "pygments_lexer": "ipython3",
   "version": "3.10.13"
  }
 },
 "nbformat": 4,
 "nbformat_minor": 2
}
