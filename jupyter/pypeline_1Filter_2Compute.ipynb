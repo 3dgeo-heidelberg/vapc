{
 "cells": [
  {
   "cell_type": "markdown",
   "metadata": {},
   "source": [
    "# How to create your own pipeline"
   ]
  },
  {
   "cell_type": "markdown",
   "metadata": {},
   "source": [
    "## Notebook Overview\n",
    "This notebook processes point cloud data by filtering based on specific criteria and computing additional geometric attributes. Below is a concise overview of its functionality.\n",
    "\n",
    "### **Steps**\n",
    "\n",
    "1. **Set Parameters**\n",
    "   - **Input File**: Specifies the path to the input `.laz` file.\n",
    "   - **Output Directory**: Defines where the processed file will be saved.\n",
    "   - **Voxel Size**: Sets the size of each voxel for spatial aggregation.\n",
    "   - **Filtering Criteria**: Filters voxels with a minimum of 3 points.\n",
    "   - **Attributes to Compute**: Calculates geometric features for each voxel.\n",
    "\n",
    "2. **Load Point Cloud Data**\n",
    "   - Utilizes `vapc.DataHandler` to load the input LAS file.\n",
    "   - Initializes a `Vapc` object with the specified voxel size and retrieves data from the data handler.\n",
    "\n",
    "3. **Compute Initial Attributes**\n",
    "   - Identifies and computes attributes based on the filtering criteria (`point_count`).\n",
    "\n",
    "4. **Filter Voxel Data**\n",
    "   - Applies the filter to retain only those voxels that meet the condition (e.g., `point_count >= 3`).\n",
    "\n",
    "5. **Compute Additional Attributes**\n",
    "   - Calculates requested geometric features for the filtered voxels.\n",
    "\n",
    "6. **Save Processed Data**\n",
    "   - Updates the data handler with the processed DataFrame.\n",
    "   - Saves the resulting point cloud to the specified output directory in `.laz` format.\n",
    "\n",
    "- **Functions and Methods**\n",
    "  - `DataHandler`: Loads and manages point cloud data.\n",
    "  - `Vapc`: Handles voxelization and attribute computations.\n",
    "  - `compute_requested_attributes()`: Calculates specified attributes.\n",
    "  - `filter_attributes()`: Filters data based on defined criteria.\n",
    "  - `save_as_las()`: Saves the processed point cloud data.\n",
    "\n",
    "### **Usage**\n",
    "\n",
    "1. **Configure Parameters**: Modify the input file path, output directory, voxel size, filtering criteria, and attributes to compute as needed.\n",
    "2. **Run the Notebook**: Execute the cells sequentially to process the point cloud data.\n",
    "3. **Output**: The filtered and attribute-enhanced point cloud is saved in the designated output directory."
   ]
  },
  {
   "cell_type": "code",
   "execution_count": 3,
   "metadata": {},
   "outputs": [],
   "source": [
    "import vapc\n",
    "import os\n",
    "# Activate silent mode:\n",
    "vapc.enable_trace(False)\n",
    "vapc.enable_timeit(False)"
   ]
  },
  {
   "cell_type": "code",
   "execution_count": 4,
   "metadata": {},
   "outputs": [
    {
     "name": "stdout",
     "output_type": "stream",
     "text": [
      "Adding new dimension raw_classification\n",
      "Adding new dimension scan_angle_rank\n",
      "Adding new dimension voxel_x\n",
      "Adding new dimension voxel_y\n",
      "Adding new dimension voxel_z\n",
      "Adding new dimension point_count\n",
      "Adding new dimension cov_xx\n",
      "Adding new dimension cov_xy\n",
      "Adding new dimension cov_xz\n",
      "Adding new dimension cov_yx\n",
      "Adding new dimension cov_yy\n",
      "Adding new dimension cov_yz\n",
      "Adding new dimension cov_zx\n",
      "Adding new dimension cov_zy\n",
      "Adding new dimension cov_zz\n",
      "Adding new dimension Eigenvalue_1\n",
      "Adding new dimension Eigenvalue_2\n",
      "Adding new dimension Eigenvalue_3\n",
      "Adding new dimension Sum_of_Eigenvalues\n",
      "Adding new dimension Omnivariance\n",
      "Adding new dimension Eigentropy\n",
      "Adding new dimension Anisotropy\n",
      "Adding new dimension Planarity\n",
      "Adding new dimension Linearity\n",
      "Adding new dimension Surface_Variation\n",
      "Adding new dimension Sphericity\n"
     ]
    }
   ],
   "source": [
    "infile = r\"../tests/test_data/vapc_in.laz\"\n",
    "out_dir = r\"../tests/test_data_output/\"\n",
    "voxel_size = 0.25\n",
    "save_as = \".laz\"\n",
    "reduce_to = False\n",
    "filter_by = {\"point_count\":[\"min_eq\",3]}\n",
    "compute_attributes = [\"geometric_features\"]\n",
    "\n",
    "#open point cloud with data handler\n",
    "dh = vapc.DataHandler(infiles=infile)\n",
    "dh.load_las_files()\n",
    "\n",
    "#Add df to vapc\n",
    "vapc_pc = vapc.Vapc(voxel_size=voxel_size)\n",
    "vapc_pc.get_data_from_data_handler(dh)\n",
    "\n",
    "#Compute attribute\n",
    "vapc_pc.compute = list(filter_by.keys())\n",
    "vapc_pc.compute_requested_attributes()\n",
    "\n",
    "#Filter attribute by condition and value\n",
    "for filter_attribute in list(filter_by.keys()):\n",
    "    vapc_pc.filter_attributes(\n",
    "        filter_attribute=filter_attribute,\n",
    "        min_max_eq=filter_by[filter_attribute][0],\n",
    "        filter_value=filter_by[filter_attribute][1]\n",
    ")\n",
    "\n",
    "\n",
    "#Compute requested attribute\n",
    "vapc_pc.compute = compute_attributes\n",
    "vapc_pc.compute_requested_attributes()\n",
    "\n",
    "#Save result\n",
    "outfile = os.path.join(out_dir,\"filter_and_computer.laz\")\n",
    "dh.df = vapc_pc.df\n",
    "dh.save_as_las(outfile=outfile)"
   ]
  }
 ],
 "metadata": {
  "kernelspec": {
   "display_name": "Python 3",
   "language": "python",
   "name": "python3"
  },
  "language_info": {
   "codemirror_mode": {
    "name": "ipython",
    "version": 3
   },
   "file_extension": ".py",
   "mimetype": "text/x-python",
   "name": "python",
   "nbconvert_exporter": "python",
   "pygments_lexer": "ipython3",
   "version": "3.10.15"
  }
 },
 "nbformat": 4,
 "nbformat_minor": 2
}
