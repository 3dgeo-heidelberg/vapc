{
 "cells": [
  {
   "cell_type": "markdown",
   "metadata": {},
   "source": [
    "# How to create your own pipeline"
   ]
  },
  {
   "cell_type": "code",
   "execution_count": 2,
   "metadata": {},
   "outputs": [],
   "source": [
    "import vapc\n",
    "import os\n",
    "# Activate silent mode:\n",
    "vapc.enable_trace(False)\n",
    "vapc.enable_timeit(False)"
   ]
  },
  {
   "cell_type": "markdown",
   "metadata": {},
   "source": [
    "In this example want to filter our point cloud so that voxels with point_count < 3 are removed. Next we want to compute geometric features for each voxel and save the full point cloud without reducing it. <br><br>\n",
    "Such workflows are usefull if certain computations require certain conditions. E.g. more than a certain number of points to be computable."
   ]
  },
  {
   "cell_type": "code",
   "execution_count": null,
   "metadata": {},
   "outputs": [
    {
     "name": "stdout",
     "output_type": "stream",
     "text": [
      "Adding new dimension raw_classification\n",
      "Adding new dimension scan_angle_rank\n",
      "Adding new dimension voxel_x\n",
      "Adding new dimension voxel_y\n",
      "Adding new dimension voxel_z\n",
      "Adding new dimension point_count\n",
      "Adding new dimension cov_xx\n",
      "Adding new dimension cov_xy\n",
      "Adding new dimension cov_xz\n",
      "Adding new dimension cov_yx\n",
      "Adding new dimension cov_yy\n",
      "Adding new dimension cov_yz\n",
      "Adding new dimension cov_zx\n",
      "Adding new dimension cov_zy\n",
      "Adding new dimension cov_zz\n",
      "Adding new dimension Eigenvalue_1\n",
      "Adding new dimension Eigenvalue_2\n",
      "Adding new dimension Eigenvalue_3\n",
      "Adding new dimension Sum_of_Eigenvalues\n",
      "Adding new dimension Omnivariance\n",
      "Adding new dimension Eigentropy\n",
      "Adding new dimension Anisotropy\n",
      "Adding new dimension Planarity\n",
      "Adding new dimension Linearity\n"
     ]
    }
   ],
   "source": [
    "infile = r\"../tests/test_data/vapc_in.laz\"\n",
    "out_dir = r\"../tests/test_data_output/\"\n",
    "voxel_size = 0.25\n",
    "save_as = \".laz\"\n",
    "reduce_to = False\n",
    "filter_by = {\"point_count\":[\"min_eq\",3]}\n",
    "compute_attributes = [\"geometric_features\"]\n",
    "\n",
    "#open point cloud with data handler\n",
    "dh = vapc.DataHandler(infiles=infile)\n",
    "dh.load_las_files()\n",
    "\n",
    "#Add df to vapc\n",
    "vapc_pc = vapc.Vapc(voxel_size=voxel_size)\n",
    "vapc_pc.get_data_from_data_handler(dh)\n",
    "\n",
    "#Compute attribute\n",
    "vapc_pc.compute = list(filter_by.keys())\n",
    "vapc_pc.compute_requested_attributes()\n",
    "\n",
    "#Filter attribute by condition and value\n",
    "for filter_attribute in list(filter_by.keys()):\n",
    "    vapc_pc.filter_attributes(\n",
    "        filter_attribute=filter_attribute,\n",
    "        min_max_eq=filter_by[filter_attribute][0],\n",
    "        filter_value=filter_by[filter_attribute][1]\n",
    ")\n",
    "\n",
    "\n",
    "#Compute requested attribute\n",
    "vapc_pc.compute = compute_attributes\n",
    "vapc_pc.compute_requested_attributes()\n",
    "\n",
    "#Save result\n",
    "outfile = os.path.join(out_dir,\"filter_and_computer.laz\")\n",
    "dh.df = vapc_pc.df\n",
    "dh.save_as_las(outfile=outfile)"
   ]
  }
 ],
 "metadata": {
  "kernelspec": {
   "display_name": "Python 3",
   "language": "python",
   "name": "python3"
  },
  "language_info": {
   "codemirror_mode": {
    "name": "ipython",
    "version": 3
   },
   "file_extension": ".py",
   "mimetype": "text/x-python",
   "name": "python",
   "nbconvert_exporter": "python",
   "pygments_lexer": "ipython3",
   "version": "3.10.15"
  }
 },
 "nbformat": 4,
 "nbformat_minor": 2
}
