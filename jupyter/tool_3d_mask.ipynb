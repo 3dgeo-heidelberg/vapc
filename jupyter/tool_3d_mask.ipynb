{
 "cells": [
  {
   "cell_type": "markdown",
   "metadata": {},
   "source": [
    "# How to 3D mask with VASP"
   ]
  },
  {
   "cell_type": "markdown",
   "metadata": {},
   "source": [
    "Relevant imports:"
   ]
  },
  {
   "cell_type": "code",
   "execution_count": 1,
   "metadata": {},
   "outputs": [],
   "source": [
    "import vasp\n",
    "# Activate silent mode:\n",
    "vasp.enable_trace(False)\n",
    "vasp.enable_timeit(False)"
   ]
  },
  {
   "cell_type": "code",
   "execution_count": 2,
   "metadata": {},
   "outputs": [
    {
     "name": "stdout",
     "output_type": "stream",
     "text": [
      "c:\\users\\nc298\\repos\\vasp\n",
      "Adding new dimension raw_classification\n",
      "Adding new dimension scan_angle_rank\n"
     ]
    },
    {
     "data": {
      "text/plain": [
       "True"
      ]
     },
     "execution_count": 2,
     "metadata": {},
     "output_type": "execute_result"
    }
   ],
   "source": [
    "infile = r\"../tests/test_data/vasp_in.laz\"\n",
    "out_dir = r\"../tests/test_data_output/\"\n",
    "voxel_size = 0.1\n",
    "save_as = \".laz\"\n",
    "reduce_to = False\n",
    "vasp_command = {\n",
    "            \"tool\":\"mask\",\n",
    "            \"args\":{\n",
    "                    \"maskfile\":r\"../tests/test_data/small_mask.laz\",\n",
    "                    \"segment_in_or_out\":\"in\",\n",
    "                    \"buffer_size\":1\n",
    "                }\n",
    "        }\n",
    "\n",
    "vasp.do_vasp_on_files(\n",
    "    file=infile,\n",
    "    out_dir=out_dir,\n",
    "    voxel_size=voxel_size,\n",
    "    vasp_command=vasp_command,\n",
    "    reduce_to=reduce_to,\n",
    "    save_as=save_as)"
   ]
  }
 ],
 "metadata": {
  "kernelspec": {
   "display_name": "Python 3",
   "language": "python",
   "name": "python3"
  },
  "language_info": {
   "codemirror_mode": {
    "name": "ipython",
    "version": 3
   },
   "file_extension": ".py",
   "mimetype": "text/x-python",
   "name": "python",
   "nbconvert_exporter": "python",
   "pygments_lexer": "ipython3",
   "version": "3.10.9"
  }
 },
 "nbformat": 4,
 "nbformat_minor": 2
}
