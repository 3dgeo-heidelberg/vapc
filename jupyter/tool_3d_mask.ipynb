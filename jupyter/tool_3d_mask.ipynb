{
 "cells": [
  {
   "cell_type": "markdown",
   "metadata": {},
   "source": [
    "# How to 3D mask with vapc"
   ]
  },
  {
   "cell_type": "markdown",
   "metadata": {},
   "source": [
    "## Notebook Overview\n",
    "\n",
    "This notebook demonstrates how to use the `vapc` library to perform 3D masking on point cloud data. The following steps have been completed so far:\n",
    "\n",
    "1. Imported the `vapc` library and disabled trace and timeit modes.\n",
    "2. Defined input and output file paths, voxel size, and other parameters.\n",
    "3. Executed the `vapc` command to apply a mask to the input point cloud data and saved the output."
   ]
  },
  {
   "cell_type": "code",
   "execution_count": null,
   "metadata": {},
   "outputs": [],
   "source": [
    "import vapc\n",
    "\n",
    "# Activate silent mode:\n",
    "vapc.enable_trace(False)\n",
    "vapc.enable_timeit(False)"
   ]
  },
  {
   "cell_type": "code",
   "execution_count": null,
   "metadata": {},
   "outputs": [],
   "source": [
    "infile = r\"../tests/test_data/vapc_in.laz\"\n",
    "out_dir = r\"../tests/test_data_output/\"\n",
    "voxel_size = 0.1\n",
    "save_as = \".laz\"\n",
    "reduce_to = False\n",
    "vapc_command = {\n",
    "            \"tool\":\"mask\",\n",
    "            \"args\":{\n",
    "                    \"maskfile\":r\"../tests/test_data/small_mask.laz\",\n",
    "                    \"segment_in_or_out\":\"in\",\n",
    "                    \"buffer_size\":1\n",
    "                }\n",
    "        }\n",
    "\n",
    "vapc.do_vapc_on_files(\n",
    "    file=infile,\n",
    "    out_dir=out_dir,\n",
    "    voxel_size=voxel_size,\n",
    "    vapc_command=vapc_command,\n",
    "    reduce_to=reduce_to,\n",
    "    save_as=save_as)"
   ]
  }
 ],
 "metadata": {
  "kernelspec": {
   "display_name": "Python 3",
   "language": "python",
   "name": "python3"
  },
  "language_info": {
   "codemirror_mode": {
    "name": "ipython",
    "version": 3
   },
   "file_extension": ".py",
   "mimetype": "text/x-python",
   "name": "python",
   "nbconvert_exporter": "python",
   "pygments_lexer": "ipython3",
   "version": "3.10.15"
  }
 },
 "nbformat": 4,
 "nbformat_minor": 2
}
