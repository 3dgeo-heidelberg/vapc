{
 "cells": [
  {
   "cell_type": "markdown",
   "metadata": {},
   "source": [
    "# How to compute voxel-based point cloud statistics for existing attributes"
   ]
  },
  {
   "cell_type": "code",
   "execution_count": 1,
   "metadata": {},
   "outputs": [],
   "source": [
    "import vasp\n",
    "# Activate silent mode:\n",
    "vasp.enable_trace(False)\n",
    "vasp.enable_timeit(False)"
   ]
  },
  {
   "cell_type": "code",
   "execution_count": null,
   "metadata": {},
   "outputs": [
    {
     "name": "stdout",
     "output_type": "stream",
     "text": [
      "Adding new dimension raw_classification\n",
      "Adding new dimension scan_angle_rank\n",
      "Adding new dimension intensity_mean\n",
      "Adding new dimension red_min\n",
      "Adding new dimension red_mean\n",
      "Adding new dimension red_max\n",
      "Adding new dimension red_sum\n",
      "Adding new dimension green_min\n",
      "Adding new dimension green_max\n",
      "Adding new dimension blue_mean\n"
     ]
    },
    {
     "data": {
      "text/plain": [
       "True"
      ]
     },
     "execution_count": 4,
     "metadata": {},
     "output_type": "execute_result"
    }
   ],
   "source": [
    "infile = r\"../tests/test_data/vasp_in.laz\"\n",
    "out_dir = r\"../tests/test_data_output/\"\n",
    "voxel_size = 0.25\n",
    "save_as = \".laz\"\n",
    "vasp_command = {\n",
    "        \"tool\":\"statistics\",\n",
    "        \"args\":{\n",
    "            \"statistics\":{\n",
    "                \"red\":[\"min\",\"mean\",\"max\",\"sum\"],\n",
    "                \"green\":[\"min\",\"max\"],\n",
    "            }}\n",
    "        }\n",
    "\n",
    "vasp.do_vasp_on_files(\n",
    "    file=infile,\n",
    "    out_dir=out_dir,\n",
    "    voxel_size=voxel_size,\n",
    "    vasp_command=vasp_command,\n",
    "    save_as=save_as)"
   ]
  }
 ],
 "metadata": {
  "kernelspec": {
   "display_name": "Python 3",
   "language": "python",
   "name": "python3"
  },
  "language_info": {
   "codemirror_mode": {
    "name": "ipython",
    "version": 3
   },
   "file_extension": ".py",
   "mimetype": "text/x-python",
   "name": "python",
   "nbconvert_exporter": "python",
   "pygments_lexer": "ipython3",
   "version": "3.10.9"
  }
 },
 "nbformat": 4,
 "nbformat_minor": 2
}
