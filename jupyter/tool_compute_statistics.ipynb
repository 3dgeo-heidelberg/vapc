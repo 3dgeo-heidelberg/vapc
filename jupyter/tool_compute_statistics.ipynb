{
 "cells": [
  {
   "cell_type": "markdown",
   "metadata": {},
   "source": [
    "# How to compute voxel-based point cloud statistics for existing attributes"
   ]
  },
  {
   "cell_type": "markdown",
   "metadata": {},
   "source": [
    "## Notebook Overview\n",
    "\n",
    "This notebook demonstrates how to compute voxel-based statistics for existing attributes in a point cloud dataset using the `vapc` library. \n",
    "\n",
    "1. **Initialization**: Import the `vapc` library and configure it to run in silent mode.\n",
    "2. **Configuration**: Define input file, output directory, voxel size, and the statistics to be computed for the attributes `red` and `green`.\n",
    "3. **Execution**: Run the `vapc` command to compute the specified statistics and save the results."
   ]
  },
  {
   "cell_type": "code",
   "execution_count": null,
   "metadata": {},
   "outputs": [],
   "source": [
    "import vapc\n",
    "# Activate silent mode:\n",
    "vapc.enable_trace(False)\n",
    "vapc.enable_timeit(False)"
   ]
  },
  {
   "cell_type": "code",
   "execution_count": null,
   "metadata": {},
   "outputs": [],
   "source": [
    "infile = r\"../tests/test_data/vapc_in.laz\"\n",
    "out_dir = r\"../tests/test_data_output/\"\n",
    "voxel_size = 0.25\n",
    "save_as = \".laz\"\n",
    "vapc_command = {\n",
    "        \"tool\":\"statistics\",\n",
    "        \"args\":{\n",
    "            \"statistics\":{\n",
    "                \"red\":[\"min\",\"mean\",\"max\",\"sum\"],\n",
    "                \"green\":[\"min\",\"max\"],\n",
    "            }}\n",
    "        }\n",
    "\n",
    "vapc.do_vapc_on_files(\n",
    "    file=infile,\n",
    "    out_dir=out_dir,\n",
    "    voxel_size=voxel_size,\n",
    "    vapc_command=vapc_command,\n",
    "    save_as=save_as)"
   ]
  }
 ],
 "metadata": {
  "kernelspec": {
   "display_name": "Python 3",
   "language": "python",
   "name": "python3"
  },
  "language_info": {
   "codemirror_mode": {
    "name": "ipython",
    "version": 3
   },
   "file_extension": ".py",
   "mimetype": "text/x-python",
   "name": "python",
   "nbconvert_exporter": "python",
   "pygments_lexer": "ipython3",
   "version": "3.10.15"
  }
 },
 "nbformat": 4,
 "nbformat_minor": 2
}
