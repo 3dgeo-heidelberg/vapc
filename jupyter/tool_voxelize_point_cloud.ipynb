{
 "cells": [
  {
   "cell_type": "markdown",
   "metadata": {},
   "source": [
    "# How to voxelize a point cloud"
   ]
  },
  {
   "cell_type": "markdown",
   "metadata": {},
   "source": [
    "## Notebook Overview\n",
    "\n",
    "This notebook demonstrates how to voxelize a point cloud using the `vapc` Python library. The steps include:\n",
    "\n",
    "1. Importing the necessary library and activating silent mode to suppress trace and timing outputs.\n",
    "2. Defining input and output file paths, voxel size, and the voxelization command parameters.\n",
    "3. Executing the voxelization process on the input file and saving the output in the specified format."
   ]
  },
  {
   "cell_type": "code",
   "execution_count": null,
   "metadata": {},
   "outputs": [],
   "source": [
    "import vapc\n",
    "\n",
    "# Activate silent mode:\n",
    "vapc.enable_trace(False)\n",
    "vapc.enable_timeit(False)"
   ]
  },
  {
   "cell_type": "code",
   "execution_count": null,
   "metadata": {},
   "outputs": [],
   "source": [
    "infile = r\"../tests/test_data/vapc_in.laz\"\n",
    "out_dir = r\"../tests/test_data_output/\"\n",
    "voxel_size = 0.25\n",
    "save_as = \".ply\"\n",
    "vapc_command = {\n",
    "        \"tool\":\"subsample\",\n",
    "        \"args\":{\n",
    "            \"sub_sample_method\":\"center_of_voxel\"\n",
    "            }\n",
    "        }\n",
    "\n",
    "vapc.do_vapc_on_files(\n",
    "    file=infile,\n",
    "    out_dir=out_dir,\n",
    "    voxel_size=voxel_size,\n",
    "    vapc_command=vapc_command,\n",
    "    save_as=save_as)"
   ]
  }
 ],
 "metadata": {
  "kernelspec": {
   "display_name": "Python 3",
   "language": "python",
   "name": "python3"
  },
  "language_info": {
   "codemirror_mode": {
    "name": "ipython",
    "version": 3
   },
   "file_extension": ".py",
   "mimetype": "text/x-python",
   "name": "python",
   "nbconvert_exporter": "python",
   "pygments_lexer": "ipython3",
   "version": "3.10.15"
  }
 },
 "nbformat": 4,
 "nbformat_minor": 2
}
