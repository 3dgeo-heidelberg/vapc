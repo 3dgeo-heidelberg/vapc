{
 "cells": [
  {
   "cell_type": "code",
   "execution_count": null,
   "metadata": {},
   "outputs": [],
   "source": [
    "import sys, os\n",
    "from pathlib import Path\n",
    "current_folder = os.curdir\n",
    "vasp_path = current_folder+r\".\\src\\vasp\"\n",
    "sys.path.append(vasp_path)  # add vasp directory to PATH\n",
    "from vasp import VASP\n",
    "from data_handler import DATA_HANDLER\n",
    "import argparse\n",
    "import json"
   ]
  },
  {
   "cell_type": "code",
   "execution_count": null,
   "metadata": {},
   "outputs": [],
   "source": [
    "point_cloud = r\"C:\\vasp_test_data\\vasp_in.laz\"\n",
    "point_cloud_ply = r\"C:\\test_data\\vasp_in.ply\"\n",
    "voxel_size = 0.5\n",
    "\n",
    "dh = DATA_HANDLER([point_cloud],\n",
    "                  {\"red\":\"mean\",\n",
    "                   \"blue\":\"mean\",\n",
    "                   \"green\":\"mean\"})\n",
    "dh.load_las_files()\n",
    "vasp = VASP(voxel_size,\n",
    "            [0,0,0],\n",
    "            {\"red\":\"mean\",\n",
    "            \"blue\":\"mean\",\n",
    "            \"green\":\"mean\"},\n",
    "            return_at = \"center_of_voxel\"\n",
    "            )\n",
    "vasp.get_data_from_data_handler(dh)\n",
    "vasp.compute_offset()\n",
    "vasp.compute_point_count()\n",
    "vasp.filter_attributes(\"point_count\",\"min\",5)\n",
    "vasp.compute_geometric_features()\n",
    "vasp.reduce_to_voxels()\n",
    "\n",
    "dh.df = vasp.df\n",
    "dh.save_as_ply(point_cloud_ply,voxel_size=voxel_size)"
   ]
  }
 ],
 "metadata": {
  "kernelspec": {
   "display_name": "vasp",
   "language": "python",
   "name": "python3"
  },
  "language_info": {
   "codemirror_mode": {
    "name": "ipython",
    "version": 3
   },
   "file_extension": ".py",
   "mimetype": "text/x-python",
   "name": "python",
   "nbconvert_exporter": "python",
   "pygments_lexer": "ipython3",
   "version": "3.10.13"
  }
 },
 "nbformat": 4,
 "nbformat_minor": 2
}
